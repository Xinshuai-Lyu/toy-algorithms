{
 "cells": [
  {
   "cell_type": "markdown",
   "metadata": {},
   "source": [
    "#### Problem: reverse words, such as let \"hello world!\" be printed out to \"world! hello\", in O(1) space complexity."
   ]
  },
  {
   "cell_type": "code",
   "execution_count": 70,
   "metadata": {},
   "outputs": [],
   "source": [
    "def reverse_words_v1(words):\n",
    "    def print_worker_for_word(words, i, j):\n",
    "        # the i has been already pushed to the first character of a word \n",
    "        while i <= j:\n",
    "            print(words[i], end=\"\")\n",
    "            i += 1\n",
    "        print(\" \", end=\"\")\n",
    "    i = len(words) - 1\n",
    "    j = len(words) - 1 # I repeat it because it seems more beautiful\n",
    "    # i and j are two workers. \n",
    "    # i locates space character just before a word \n",
    "    # j locates the last character of a word\n",
    "    j_doing_his_job_now = False\n",
    "    i_doing_his_job_now = False\n",
    "    while i > 0 and j > 0: # actually j is no need to be typed here, but seems more beautiful\n",
    "        if words[j] != \" \": # j worker is doing his job, which is stopping on the last character of a word \n",
    "            j_doing_his_job_now = True\n",
    "        else:\n",
    "            j_doing_his_job_now = False\n",
    "            j -= 1 # it means j need to find the last character of a word (it is his job!)\n",
    "        if words[i] == \" \" and i < j: # i worker is doing his job, which is stopping on a space character\n",
    "            # worker j position should always greater than worker i position from the definition of their jobs\n",
    "            i_doing_his_job_now = True\n",
    "        else:\n",
    "            i_doing_his_job_now = False\n",
    "            i -= 1 # it means i need to find the first space character (come on!)\n",
    "        if j_doing_his_job_now and i_doing_his_job_now:\n",
    "            print_worker_for_word(words, i+1, j)\n",
    "            j_doing_his_job_now = False\n",
    "            i_doing_his_job_now = False\n",
    "            j = i - 1 # j starts finding new one last character of a word\n",
    "            i = i - 1 # i starts finding new one space character\n",
    "    # sadly, i worker does not have ability to help print the first word in the words \n",
    "    # if the words does not begin with space character\n",
    "    # so i worker needs help\n",
    "    if words[0] != \" \" and j_doing_his_job_now:\n",
    "        print_worker_for_word(words, 0, j)\n",
    "    print() \n",
    "    # if we do not add this, when others call this application, their output will not in a new line!"
   ]
  },
  {
   "cell_type": "code",
   "execution_count": 71,
   "metadata": {},
   "outputs": [
    {
     "name": "stdout",
     "output_type": "stream",
     "text": [
      "world! hello \n",
      "world! hello \n",
      "world! hello \n",
      "helloworld! \n"
     ]
    }
   ],
   "source": [
    "test1 = \"hello world! \"\n",
    "test2 = \"  hello      world!\"\n",
    "test3 = \"  hello        world!   \"\n",
    "test4 = \"  helloworld!   \"\n",
    "reverse_words_v1(test1)\n",
    "reverse_words_v1(test2)\n",
    "reverse_words_v1(test3)\n",
    "reverse_words_v1(test4)"
   ]
  },
  {
   "cell_type": "code",
   "execution_count": 131,
   "metadata": {},
   "outputs": [],
   "source": [
    "# not O(1) space complexity but interesting way\n",
    "def get_word(word):\n",
    "    if not word: return \"\"\n",
    "    j = len(word) - 1 # j is a worker and j locates the last character of a word\n",
    "    while word[j] == \" \": # finding a valid character now\n",
    "        j -= 1\n",
    "    # out of loop means j found a valid character now\n",
    "    return word[0:j+1] \n",
    "def reverse_words_v2(words):\n",
    "    if not words: return \"\"\n",
    "    # add a space character in the beginning of the words can make i worker have full ability to solve this problem\n",
    "    if words[0] != \" \":\n",
    "        words = \" \" + words  \n",
    "    i = len(words) - 1 # i is a worker and his job is locating space character just before a word\n",
    "    while words[i] != \" \": # finding a space character now\n",
    "        i -= 1\n",
    "    # out of loop means i found a space character now\n",
    "    word = get_word(words[i+1:]) \n",
    "    reversed_words = reverse_words_v2(words[0:i]) \n",
    "    if word:\n",
    "        reversed_words = \" \" + reversed_words if reversed_words else \"\"\n",
    "        reversed_words = word + reversed_words\n",
    "    return reversed_words"
   ]
  },
  {
   "cell_type": "code",
   "execution_count": 142,
   "metadata": {},
   "outputs": [],
   "source": [
    "assert(reverse_words_v2(test1) == 'world! hello')\n",
    "assert(reverse_words_v2(test2) == 'world! hello')\n",
    "assert(reverse_words_v2(test3) == 'world! hello')\n",
    "assert(reverse_words_v2(test4) == 'helloworld!')"
   ]
  }
 ],
 "metadata": {
  "kernelspec": {
   "display_name": "Python 3",
   "language": "python",
   "name": "python3"
  },
  "language_info": {
   "codemirror_mode": {
    "name": "ipython",
    "version": 3
   },
   "file_extension": ".py",
   "mimetype": "text/x-python",
   "name": "python",
   "nbconvert_exporter": "python",
   "pygments_lexer": "ipython3",
   "version": "3.8.5"
  }
 },
 "nbformat": 4,
 "nbformat_minor": 4
}
